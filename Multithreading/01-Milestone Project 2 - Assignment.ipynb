{
 "cells": [
  
  {
   "cell_type": "markdown",
   "metadata": {},
   "source": [
    "# Starting a New Thread\n",
    "In this you will be creating a method and multiple threads for the methods in Python.\n",
    "\n",
    "To spawn another thread, you need to call following method available in thread module −\n",
    "thread.start_new_thread ( function, args[, kwargs] )\n",
    "This method call enables a fast and efficient way to create new threads in both Linux and Windows.\n",
    " The method call returns immediately and the child thread starts and calls function with the passed list of args.\n",
    " When function returns, the thread terminates. Here, args is a tuple of arguments; use an empty tuple to call function without passing any arguments. \n",
    "kwargs is an optional dictionary of keyword arguments.\n",
    "\n",

    "# EXAMPLE\n",
    "\n",
   " #!/usr/bin/python−\n",
    "\n",
   "import thread−\n",
     "\n",
    "import time−\n",
     "\n",

 " Define a function for the thread−\n",
     "\n",
 "def print_time( threadName, delay):−\n",
     "\n",
  "  count = 0−\n",
     "\n",
   " while count < 5:−\n",
     "\n",
    "   time.sleep(delay)−\n",
     "\n",
     "  count += 1−\n",
     "\n",
     "  print "%s: %s" % ( threadName, time.ctime(time.time()) )−\n",
     "\n",

 " Create two threads as follows−\n",
     "\n",
 "try:−\n",
     "\n",
  "  thread.start_new_thread( print_time, ("Thread-1", 2, ) )−\n",
     "\n",
   " thread.start_new_thread( print_time, ("Thread-2", 4, ) )−\n",
     "\n",
 "except:−\n",
     "\n",
 "   print "Error: unable to start thread"−\n",
     "\n",

 "while 1:−\n",
     "\n",
 "   pass−\n",
     "\n",
   
    "# HAVE FUN!"
   ]
  }
 ],
 "metadata": {
  "kernelspec": {
   "display_name": "Python 3",
   "language": "python",
   "name": "python3"
  },
  "language_info": {
   "codemirror_mode": {
    "name": "ipython",
    "version": 3
   },
   "file_extension": ".py",
   "mimetype": "text/x-python",
   "name": "python",
   "nbconvert_exporter": "python",
   "pygments_lexer": "ipython3",
   "version": "3.6.6"
  }
 },
 "nbformat": 4,
 "nbformat_minor": 1
}
