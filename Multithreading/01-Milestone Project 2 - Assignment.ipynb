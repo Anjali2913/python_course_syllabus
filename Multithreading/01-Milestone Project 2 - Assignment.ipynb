{
 "cells": [
  
  {
   "cell_type": "markdown",
   "metadata": {},
   "source": [
    "# Starting a New Thread\n",
    "In this you will be creating a method and multiple threads for the methods in Python.\n",
    "\n",
    "To spawn another thread, you need to call following method available in thread module −\n",
    "thread.start_new_thread ( function, args[, kwargs] )\n",
    "This method call enables a fast and efficient way to create new threads in both Linux and Windows.\n",
   " The method call returns immediately and the child thread starts and calls function with the passed list of args.\n",
   " When function returns, the thread terminates. Here, args is a tuple of arguments; use an empty tuple to call function without passing any arguments. \n",
    "kwargs is an optional dictionary of keyword arguments.\n",


    "\n",
    
   
    "# HAVE FUN!"
   ]
  }
 ],
 "metadata": {
  "kernelspec": {
   "display_name": "Python 3",
   "language": "python",
   "name": "python3"
  },
  "language_info": {
   "codemirror_mode": {
    "name": "ipython",
    "version": 3
   },
   "file_extension": ".py",
   "mimetype": "text/x-python",
   "name": "python",
   "nbconvert_exporter": "python",
   "pygments_lexer": "ipython3",
   "version": "3.6.6"
  }
 },
 "nbformat": 4,
 "nbformat_minor": 1
}
