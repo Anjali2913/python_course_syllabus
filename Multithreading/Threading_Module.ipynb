{
 "cells": [
  
  {
   "cell_type": "markdown",
   "metadata": {},
   "source": [
    "# Creating Thread Using Threading Module\n",
    "To implement a new thread using the threading module, you have to do the following\n",
    "\n",
    "−Define a new subclass of the Thread class.\n",
    "\n",
    "−Override the __init__(self [,args]) method to add additional arguments.\n",
    "\n",

    "−Then, override the run(self [,args]) method to implement what the thread should do when started..\n",
    "\n",
    "Once you have created the new Thread subclass, you can create an instance of it and then start a new thread by invoking the start(), \n",
    "which in turn calls run() method.\n",
     "\n",
   
    "\n",

    "# EXAMPLE\n",
    "\n"
   ]
  },
  
   {
   "cell_type": "code",
   "execution_count": null,
   "metadata": {
    "collapsed": true
   },
   "outputs": [],
   "source": [
    
    "\n",
 
    
    
    
 
   
    
    "\n"
    
   ]
  }
  
 ],
 "metadata": {
  "kernelspec": {
   "display_name": "Python 3",
   "language": "python",
   "name": "python3"
  },
  "language_info": {
   "codemirror_mode": {
    "name": "ipython",
    "version": 3
   },
   "file_extension": ".py",
   "mimetype": "text/x-python",
   "name": "python",
   "nbconvert_exporter": "python",
   "pygments_lexer": "ipython3",
   "version": "3.6.6"
  }
 },
 "nbformat": 4,
 "nbformat_minor": 1
}
