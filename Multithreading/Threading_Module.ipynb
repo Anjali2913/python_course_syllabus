{
 "cells": [
  
  {
   "cell_type": "markdown",
   "metadata": {},
   "source": [
    "# Creating Thread Using Threading Module\n",
    "To implement a new thread using the threading module, you have to do the following\n",
    "\n",
    "−Define a new subclass of the Thread class.\n",
    "\n",
    "−Override the __init__(self [,args]) method to add additional arguments.\n",
    "\n",

    "−Then, override the run(self [,args]) method to implement what the thread should do when started..\n",
    "\n",
    "Once you have created the new Thread subclass, you can create an instance of it and then start a new thread by invoking the start(), \n",
    "which in turn calls run() method.\n",
     "\n",
   
    "\n",

    "# EXAMPLE\n",
    "\n"
   ]
  },
  
   {
   "cell_type": "code",
   "execution_count": null,
   "metadata": {
    "collapsed": true
   },
   "outputs": [],
   "source": [
    "import random\n",
    "\n",
    "suits = pass\n",
    "ranks = pass\n",
    "values = pass\n",
    

    "import thread\n",
    "import time\n",
    "exitFlag = 0\n",
    "class myThread (threading.Thread):\n",
     "\n"
    "def __init__(self, threadID, name, counter):\n",
    "threading.Thread.__init__(self)\n",
    "self.threadID = threadID\n",
    "self.name = name\n",
    " self.counter = counter\n",
    "\n"
    "def run(self):\n",
    "print `Starting ` + self.name\n",
    " print_time(self.name, 5, self.counter)\n",
    "print `Exiting ` + self.name\n",
    "\n"
    "def print_time(threadName, counter, delay):\n",
    "while counter:\n",
    "if exitFlag:\n",
    "threadName.exit()\n",
    "time.sleep(delay)\n",
    "print `%s: %s` % (threadName, time.ctime(time.time()))\n",
    "counter -= 1\n",
    "# Create new threads\n",
    "thread1 = myThread(1, `Thread-1`, 1)\n",
    "thread1 = myThread(2, `Thread-2`, 2)\n",
    "# Start new Threads\n",
    "thread1.start()\n",
    "thread2.start()\n",
    
    
    
 
   
    
    "\n"
    
   ]
  }
  
 ],
 "metadata": {
  "kernelspec": {
   "display_name": "Python 3",
   "language": "python",
   "name": "python3"
  },
  "language_info": {
   "codemirror_mode": {
    "name": "ipython",
    "version": 3
   },
   "file_extension": ".py",
   "mimetype": "text/x-python",
   "name": "python",
   "nbconvert_exporter": "python",
   "pygments_lexer": "ipython3",
   "version": "3.6.6"
  }
 },
 "nbformat": 4,
 "nbformat_minor": 1
}
