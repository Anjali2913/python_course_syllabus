{
 "cells": [
  
  {
   "cell_type": "markdown",
   "metadata": {},
   "source": [
    "# Creating Thread Using Threading Module\n",
    "To implement a new thread using the threading module, you have to do the following\n"
    " 1. −Define a new subclass of the Thread class.\n",
    "\n",
    " 2 .Override the __init__(self [,args]) method to add additional arguments.\n"
    "\n",

    " 3. Then, override the run(self [,args]) method to implement what the thread should do when started..\n",
    "\n",
    "To spawn another thread, you need to call following method available in thread module −\n",
    "thread.start_new_thread ( function, args[, kwargs] ).\n",
     "\n",
    "This method call enables a fast and efficient way to create new threads in both Linux and Windows.\n",
    " The method call returns immediately and the child thread starts and calls function with the passed list of args.\n",
    " When function returns, the thread terminates. Here, args is a tuple of arguments; use an empty tuple to call function without passing any arguments. \n",
    "kwargs is an optional dictionary of keyword arguments.\n",
    "\n",

    "# EXAMPLE\n",
    "\n"
   ]
  },
  
   {
   "cell_type": "code",
   "execution_count": null,
   "metadata": {
    "collapsed": true
   },
   "outputs": [],
   "source": [
    "import random\n",
    "\n",
    "suits = pass\n",
    "ranks = pass\n",
    "values = pass\n",
    

    "import thread\n",
    "import time\n",
    "# Define a function for the thread\n",
    "def print_time( threadName, delay):\n",
     "count = 0\n",
    "while count < 5:\n",
    "time.sleep(delay)\n",
    "count += 1\n",
    "print  threadName, time.ctime(time.time()) )\n",
    "# Create two threads as follows\n",
    "try:\n",
    "thread.start_new_thread( print_time, (`Thread-1`, 2, ) )\n",
    "thread.start_new_thread( print_time, (`Thread-2`, 4, ) )\n",
    "except:\n",
    "echo Error:unable to start thread\n",
    "while 1:\n",
    "pass\n",
    
 
   
    
    "\n"
    
   ]
  }
  
 ],
 "metadata": {
  "kernelspec": {
   "display_name": "Python 3",
   "language": "python",
   "name": "python3"
  },
  "language_info": {
   "codemirror_mode": {
    "name": "ipython",
    "version": 3
   },
   "file_extension": ".py",
   "mimetype": "text/x-python",
   "name": "python",
   "nbconvert_exporter": "python",
   "pygments_lexer": "ipython3",
   "version": "3.6.6"
  }
 },
 "nbformat": 4,
 "nbformat_minor": 1
}
