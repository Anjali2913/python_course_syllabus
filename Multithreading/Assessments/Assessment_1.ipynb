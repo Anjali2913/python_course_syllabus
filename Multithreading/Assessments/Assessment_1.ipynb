{
 "cells": [
  
  {
   "cell_type": "markdown",
   "metadata": {},
   "source": [
    "# Assessment 1 - Ticket Reservation Application\n",
    "\n",
    
    "Take an example of any reservations like, railway, movie ticket booking,etc.\n",
    "Let us think only one berth is available in a train and two passengers are asking for that berth. \n",
    "The first person has sent a request to allocate that ticket/berth to him. At the same time, \n",
    "the second person also sent a request to allocate that ticket/berth to him. Now, let us see to whom that berth is allocated.\n",
    
    "\n",
    
    " As always free to use your own additional idealogy by including Deadlock mechanism and other learned stuffs !!!!! \n",
    
    "# HAVE FUN!"
   ]
  }
 ],
 "metadata": {
  "kernelspec": {
   "display_name": "Python 3",
   "language": "python",
   "name": "python3"
  },
  "language_info": {
   "codemirror_mode": {
    "name": "ipython",
    "version": 3
   },
   "file_extension": ".py",
   "mimetype": "text/x-python",
   "name": "python",
   "nbconvert_exporter": "python",
   "pygments_lexer": "ipython3",
   "version": "3.6.6"
  }
 },
 "nbformat": 4,
 "nbformat_minor": 1
}
