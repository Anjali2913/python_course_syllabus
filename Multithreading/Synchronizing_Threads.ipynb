{
 "cells": [
  
  {
   "cell_type": "markdown",
   "metadata": {},
   "source": [
    "# Synchronizing Threads\n",
    "The threading module provided with Python includes a simple-to-implement locking mechanism that allows you to synchronize threads. A new lock is created by calling the Lock() method, which returns the new lock..\n",
    "\n",
    "The acquire(blocking) method of the new lock object is used to force threads to run synchronously. The optional blocking parameter enables you to control whether the thread waits to acquire the lock\n",
    "\n",
    "If blocking is set to 0, the thread returns immediately with a 0 value if the lock cannot be acquired and with a 1 if the lock was acquired. If blocking is set to 1, the thread blocks and wait for the lock to be released.\n",
     "\n",
 
    "The release() method of the new lock object is used to release the lock when it is no longer required.\n",
    "\n",

    "# EXAMPLE\n",
    "\n"
   ]
  },
  
   {
   "cell_type": "code",
   "execution_count": null,
   "metadata": {
    "collapsed": true
   },
   "outputs": [],
   "source": [
    "import random\n",
    "\n",
    "suits = pass\n",
    "ranks = pass\n",
    "values = pass\n",
    

    "import thread\n",
    "import time\n",
    "# Define a function for the thread\n",
    "def print_time( threadName, delay):\n",
     "count = 0\n",
    "while count < 5:\n",
    "time.sleep(delay)\n",
    "count += 1\n",
    "print  threadName, time.ctime(time.time()) )\n",
    "# Create two threads as follows\n",
    "try:\n",
    "thread.start_new_thread( print_time, (`Thread-1`, 2, ) )\n",
    "thread.start_new_thread( print_time, (`Thread-2`, 4, ) )\n",
    "except:\n",
    "echo Error:unable to start thread\n",
    "while 1:\n",
    "pass\n",
    
 
   
    
    "\n"
    
   ]
  }
  
 ],
 "metadata": {
  "kernelspec": {
   "display_name": "Python 3",
   "language": "python",
   "name": "python3"
  },
  "language_info": {
   "codemirror_mode": {
    "name": "ipython",
    "version": 3
   },
   "file_extension": ".py",
   "mimetype": "text/x-python",
   "name": "python",
   "nbconvert_exporter": "python",
   "pygments_lexer": "ipython3",
   "version": "3.6.6"
  }
 },
 "nbformat": 4,
 "nbformat_minor": 1
}
