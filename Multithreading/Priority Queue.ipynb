{
 "cells": [
  
  {
   "cell_type": "markdown",
   "metadata": {},
   "source": [
    "# Multithreaded Priority Queue\n",
    "The Queue module allows you to create a new queue object that can hold a specific number of items. There are following methods to control the Queue −\n",
    "\n",
    
 
    "get() − The get() removes and returns an item from the queue.\n",
    "\n",

    "put() − The put adds item to a queue.\n",
    "\n",

    "qsize() − The qsize() returns the number of items that are currently in the queue.\n",
    "\n",

    "empty() − The empty( ) returns True if queue is empty; otherwise, False.\n",
    "\n",

    "full() − the full() returns True if queue is full; otherwise, False.\n",
    "\n",

    "# EXAMPLE\n",
    "\n"
   ]
  },
  
   {
   "cell_type": "code",
   "execution_count": null,
   "metadata": {
    "collapsed": true
   },
   "outputs": [],
   "source": [
    
    

   
   
"class myThread (threading.Thread):\n",
     "\n",
"def __init__(self, threadID, name, q):\n",
"threading.Thread.__init__(self)\n",
"self.threadID = threadID\n",
"self.name = name\n",
"self.q = q\n",
    "\n",
"def run(self):\n",
"print `Starting ` + self.name\n",
"process_data(self.name, self.q)\n",
"print `Exiting ` + self.name\n",
    "\n",

"def process_data(threadName, q):\n",
"while not exitFlag:\n",
"queueLock.acquire()\n",
"if not workQueue.empty():\n",
"data = q.get()\n",
"queueLock.release()\n",
"print `%s processing %s` % (threadName, data)\n",
"else:\n",
"queueLock.release()\n",
"time.sleep(1)\n",

"threadList = [`Thread-1`, `Thread-2`, `Thread-3`]\n",
"nameList = [`One`, `Two`, `Three`, `Four`, `Five`]\n",
"queueLock = threading.Lock()\n",
"workQueue = Queue.Queue(10)\n",
"threads = []\n",
"threadID = 1\n",
"\n",
"# Create new threads\n",
"for tName in threadList:\n",
"thread = myThread(threadID, tName, workQueue)\n",
"thread.start()\n",
"threads.append(thread)\n",
"threadID += 1\n",
"\n",
"# Fill the queue\n",
"queueLock.acquire()\n",
"for word in nameList:\n",
"workQueue.put(word)\n",
"queueLock.release()\n",
"\n",
"# Wait for queue to empty\n",
"while not workQueue.empty():\n",
"pass\n",
"\n",
"# Notify threads it's time to exit\n",
"exitFlag = 1\n",
"\n",
"# Wait for all threads to complete\n",
"for t in threads:\n",
"t.join()\n",
"print `Exiting Main Thread`\n",
 
   
    
    "\n"
    
   ]
  }
  
 ],
 "metadata": {
  "kernelspec": {
   "display_name": "Python 3",
   "language": "python",
   "name": "python3"
  },
  "language_info": {
   "codemirror_mode": {
    "name": "ipython",
    "version": 3
   },
   "file_extension": ".py",
   "mimetype": "text/x-python",
   "name": "python",
   "nbconvert_exporter": "python",
   "pygments_lexer": "ipython3",
   "version": "3.6.6"
  }
 },
 "nbformat": 4,
 "nbformat_minor": 1
}
