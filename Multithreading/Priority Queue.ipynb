{
 "cells": [
  
  {
   "cell_type": "markdown",
   "metadata": {},
   "source": [
    "# Multithreaded Priority Queue\n",
    "The Queue module allows you to create a new queue object that can hold a specific number of items. There are following methods to control the Queue −\n",
    "\n",
    
 
    "get() − The get() removes and returns an item from the queue.\n",
    "\n",

    "put() − The put adds item to a queue.\n",
    "\n",

    "qsize() − The qsize() returns the number of items that are currently in the queue.\n",
    "\n",

    "empty() − The empty( ) returns True if queue is empty; otherwise, False.\n",
    "\n",

    "full() − the full() returns True if queue is full; otherwise, False.\n",
    "\n",

    "# EXAMPLE\n",
    "\n"
   ]
  },
  
   {
   "cell_type": "code",
   "execution_count": null,
   "metadata": {
    "collapsed": true
   },
   "outputs": [],
   "source": [
    
    

   
   
    "import thread\n",
    "import time\n",
    "exitFlag = 0\n",
    "class myThread (threading.Thread):\n",
     "\n",
    "def __init__(self, threadID, name, counter):\n",
    "threading.Thread.__init__(self)\n",
    "self.threadID = threadID\n",
    "self.name = name\n",
    " self.counter = counter\n",
    "\n",
    "def run(self):\n",
    "print `Starting ` + self.name\n",
    " # Get lock to synchronize threads\n",
    "threadLock.acquire()\n",
    " print_time(self.name, self.counter, 3)\n",
    "# Free lock to release next thread\n",
    " threadLock.release()\n",
    "\n",
    "def print_time(threadName, counter, delay):\n",
    "while counter:\n",
    "time.sleep(delay)\n",
    "print `%s: %s` % (threadName, time.ctime(time.time()))\n",
    "counter -= 1\n",
    "threadLock = threading.Lock()\n",
    "threads = []\n",
    "\n",
    "# Create new threads\n",
    
    "thread1 = myThread(1, `Thread-1`, 1)\n",
    "thread1 = myThread(2, `Thread-2`, 2)\n",
     "\n",
    "# Start new Threads\n",
    "thread1.start()\n",
    "thread2.start()\n",
     "\n",
    "# Add threads to thread list\n",
    
    "threads.append(thread1)\n",
    "threads.append(thread2)\n",
     "\n",
     "# Add threads to thread list\n",
     "for t in threads:\n",
     "t.join()\n",
     "print `Exiting Main Thread`\n",
 
   
    
    "\n"
    
   ]
  }
  
 ],
 "metadata": {
  "kernelspec": {
   "display_name": "Python 3",
   "language": "python",
   "name": "python3"
  },
  "language_info": {
   "codemirror_mode": {
    "name": "ipython",
    "version": 3
   },
   "file_extension": ".py",
   "mimetype": "text/x-python",
   "name": "python",
   "nbconvert_exporter": "python",
   "pygments_lexer": "ipython3",
   "version": "3.6.6"
  }
 },
 "nbformat": 4,
 "nbformat_minor": 1
}
